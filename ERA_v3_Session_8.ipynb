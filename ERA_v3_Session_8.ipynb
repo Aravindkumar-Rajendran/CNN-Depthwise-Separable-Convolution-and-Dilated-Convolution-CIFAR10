{
  "nbformat": 4,
  "nbformat_minor": 0,
  "metadata": {
    "colab": {
      "provenance": [],
      "gpuType": "T4"
    },
    "kernelspec": {
      "name": "python3",
      "display_name": "Python 3"
    },
    "language_info": {
      "name": "python"
    },
    "accelerator": "GPU"
  },
  "cells": [
    {
      "cell_type": "code",
      "source": [
        "import torch\n",
        "import torch.nn as nn\n",
        "import torch.optim as optim\n",
        "import torchvision\n",
        "import torchvision.transforms as transforms\n",
        "import albumentations as A\n",
        "from albumentations.pytorch import ToTensorV2\n",
        "import numpy as np"
      ],
      "metadata": {
        "colab": {
          "base_uri": "https://localhost:8080/"
        },
        "id": "PSV0wCR-5uP9",
        "outputId": "6fe17b3d-c0c5-408f-c6ee-1e3f084e4617"
      },
      "execution_count": null,
      "outputs": [
        {
          "output_type": "stream",
          "name": "stderr",
          "text": [
            "/usr/local/lib/python3.10/dist-packages/albumentations/__init__.py:24: UserWarning: A new version of Albumentations is available: 1.4.24 (you have 1.4.20). Upgrade using: pip install -U albumentations. To disable automatic update checks, set the environment variable NO_ALBUMENTATIONS_UPDATE to 1.\n",
            "  check_for_updates()\n"
          ]
        }
      ]
    },
    {
      "cell_type": "code",
      "source": [
        "from  torchvision import datasets\n",
        "\n",
        "cifar_trainset = datasets.CIFAR10(root='./data', train=True, download=True )\n",
        "data = cifar_trainset.data / 255\n",
        "\n",
        "cifar_10_mean = data.mean(axis=(0, 1, 2)).tolist()\n",
        "cifar_10_std = data.std(axis=(0, 1, 2)).tolist()\n",
        "print(f\"Mean : {cifar_10_mean}, Standard deviation: {cifar_10_std}\")"
      ],
      "metadata": {
        "colab": {
          "base_uri": "https://localhost:8080/"
        },
        "id": "AWn6MoCC5lNG",
        "outputId": "0902dd5e-43b2-4275-f8a4-7eaae7332266"
      },
      "execution_count": null,
      "outputs": [
        {
          "output_type": "stream",
          "name": "stdout",
          "text": [
            "Downloading https://www.cs.toronto.edu/~kriz/cifar-10-python.tar.gz to ./data/cifar-10-python.tar.gz\n"
          ]
        },
        {
          "output_type": "stream",
          "name": "stderr",
          "text": [
            "100%|██████████| 170M/170M [00:04<00:00, 42.2MB/s]\n"
          ]
        },
        {
          "output_type": "stream",
          "name": "stdout",
          "text": [
            "Extracting ./data/cifar-10-python.tar.gz to ./data\n",
            "Mean : [0.4913996786152028, 0.4821584083946074, 0.4465309144454644], Standard deviation: [0.24703223246328238, 0.2434851280000556, 0.26158784172796423]\n"
          ]
        }
      ]
    },
    {
      "cell_type": "code",
      "source": [
        "# Device configuration\n",
        "device = torch.device('cuda' if torch.cuda.is_available() else 'cpu')\n",
        "\n",
        "# Hyper-parameters\n",
        "num_epochs = 100\n",
        "batch_size = 128\n",
        "learning_rate = 0.001"
      ],
      "metadata": {
        "id": "6RWLJaMT5zGr"
      },
      "execution_count": null,
      "outputs": []
    },
    {
      "cell_type": "code",
      "execution_count": null,
      "metadata": {
        "id": "6Npz8iBjNCMO"
      },
      "outputs": [],
      "source": [
        "# Albumentation transforms\n",
        "transform_train = A.Compose([\n",
        "    A.HorizontalFlip(),\n",
        "    A.ShiftScaleRotate(shift_limit=0.05, scale_limit=0.05, rotate_limit=15, p=0.5),\n",
        "    A.CoarseDropout(max_holes=1, max_height=16, max_width=16, min_holes=1, min_height=16, min_width=16,\n",
        "                    fill_value=cifar_10_mean, mask_fill_value=None, p=0.5),\n",
        "    A.Normalize(mean=cifar_10_mean, std=cifar_10_std),\n",
        "    ToTensorV2(),\n",
        "])\n",
        "\n",
        "\n",
        "transform_test = transforms.Compose([\n",
        "    transforms.ToTensor(),\n",
        "    transforms.Normalize(mean=cifar_10_mean, std=cifar_10_std),\n",
        "])"
      ]
    },
    {
      "cell_type": "code",
      "source": [
        "train_dataset = datasets.CIFAR10(root='./data', train=True, download=True, transform=lambda img: transform_train(image=np.array(img))['image'])\n",
        "test_dataset = datasets.CIFAR10(root='./data', train=False, download=True, transform=transform_test)\n",
        "\n",
        "train_loader = torch.utils.data.DataLoader(dataset=train_dataset, batch_size=batch_size, shuffle=True)\n",
        "test_loader = torch.utils.data.DataLoader(dataset=test_dataset, batch_size=batch_size, shuffle=False)"
      ],
      "metadata": {
        "colab": {
          "base_uri": "https://localhost:8080/"
        },
        "id": "xbfW7Q076DEe",
        "outputId": "1f81e861-c328-4183-a7db-9a90999aeb2d"
      },
      "execution_count": null,
      "outputs": [
        {
          "output_type": "stream",
          "name": "stdout",
          "text": [
            "Files already downloaded and verified\n",
            "Files already downloaded and verified\n"
          ]
        }
      ]
    },
    {
      "cell_type": "code",
      "source": [
        "# has the architecture with convolutional blocks - C1 | C2 | C3 | C4 | Output\n",
        "    # (No MaxPooling, but convolutions, where the last one layer in each block has a stride of 2 instead)\n",
        "    # (No restriction on using 1x1)\n",
        "    # (If you can figure out how to use Dilated kernels here instead of MP or strided convolution, then 200pts extra!)\n",
        "# total Receptive Field must be more than 44\n",
        "# one of the layers must use Depthwise Separable Convolution\n",
        "# one of the layers must use Dilated Convolution\n",
        "# use GAP (compulsory): add FC after GAP to target #of classes (optional)\n",
        "\n",
        "\n",
        "# Convolutional neural network (CNN)\n",
        "class CIFAR10_ConvNet(nn.Module):\n",
        "    def __init__(self):\n",
        "        super(CIFAR10_ConvNet, self).__init__()\n",
        "        dropout_value = 0.1\n",
        "        # Block - 1\n",
        "        # Input: 3x32x32\n",
        "        self.convblock1 = nn.Sequential(\n",
        "            nn.Conv2d(in_channels=3, out_channels=16, kernel_size=(3, 3), stride=1, padding=1, bias=False),\n",
        "            nn.BatchNorm2d(16),\n",
        "            nn.ReLU(),\n",
        "            nn.Dropout(dropout_value),\n",
        "            # ouptput: 32, RF: 3\n",
        "\n",
        "            nn.Conv2d(in_channels=16, out_channels=32, kernel_size=(3, 3), stride=1, padding=1, bias=False),\n",
        "            nn.BatchNorm2d(32),\n",
        "            nn.ReLU(),\n",
        "            nn.Dropout(dropout_value),\n",
        "            # output: 32, RF: 5\n",
        "\n",
        "            # Depthwise separable convolution\n",
        "            nn.Conv2d(in_channels=32, out_channels=32, kernel_size=(3, 3), stride=1, padding=1, groups=32),\n",
        "            nn.Conv2d(in_channels=32, out_channels=64, kernel_size=(1, 1), stride=1, padding=0),\n",
        "            nn.BatchNorm2d(64),\n",
        "            nn.ReLU(),\n",
        "            # output: 32, RF: 7\n",
        "\n",
        "            # Layer Dilated Convolution\n",
        "            nn.Conv2d(in_channels=64, out_channels=64, kernel_size=(3, 3), stride=2, padding=2, dilation=2, bias=False),\n",
        "            nn.BatchNorm2d(64),\n",
        "            nn.ReLU(),\n",
        "            nn.Dropout(dropout_value),\n",
        "            # output: 16, RF: 11\n",
        "\n",
        "        )\n",
        "\n",
        "        self.transition1 = nn.Sequential(\n",
        "            nn.Conv2d(in_channels=64, out_channels=16, kernel_size=(1, 1), padding=0, bias=False),\n",
        "            nn.BatchNorm2d(16),\n",
        "            nn.ReLU()\n",
        "            #output : 16, RF: 11\n",
        "        )\n",
        "\n",
        "        # Block - 2\n",
        "        self.convblock2 = nn.Sequential(\n",
        "            nn.Conv2d(in_channels=16, out_channels=32, kernel_size=(3, 3), stride=1, padding=1, bias=False),\n",
        "            nn.BatchNorm2d(32),\n",
        "            nn.ReLU(),\n",
        "            nn.Dropout(dropout_value),\n",
        "            # output: 16, RF: 15\n",
        "\n",
        "            nn.Conv2d(in_channels=32, out_channels=32, kernel_size=(3, 3), stride=1, padding=1, bias=False),\n",
        "            nn.BatchNorm2d(32),\n",
        "            nn.ReLU(),\n",
        "            nn.Dropout(dropout_value),\n",
        "            # output: 16, RF: 19\n",
        "\n",
        "            # Layer Dilated Convolution\n",
        "            nn.Conv2d(in_channels=32, out_channels=64, kernel_size=(3, 3), stride=2, padding=2, dilation=2, bias=False),\n",
        "            nn.BatchNorm2d(64),\n",
        "            nn.ReLU(),\n",
        "            nn.Dropout(dropout_value),\n",
        "            # output: 8, RF: 27\n",
        "        )\n",
        "\n",
        "        self.transition2 = nn.Sequential(\n",
        "            nn.Conv2d(in_channels=64, out_channels=16, kernel_size=(1, 1), padding=0, bias=False),\n",
        "            nn.BatchNorm2d(16),\n",
        "            nn.ReLU()\n",
        "            # output: 8, RF: 27\n",
        "        )\n",
        "\n",
        "        # Block - 3\n",
        "        self.convblock3 = nn.Sequential(\n",
        "            nn.Conv2d(in_channels=16, out_channels=32, kernel_size=(3, 3), stride=1, padding=1, bias=False),\n",
        "            nn.BatchNorm2d(32),\n",
        "            nn.ReLU(),\n",
        "            nn.Dropout(dropout_value),\n",
        "            # output: 8, RF: 35\n",
        "\n",
        "            nn.Conv2d(in_channels=32, out_channels=64, kernel_size=(3, 3), stride=1, padding=1, bias=False),\n",
        "            nn.BatchNorm2d(64),\n",
        "            nn.ReLU(),\n",
        "            nn.Dropout(dropout_value),\n",
        "            # output: 8, RF: 43\n",
        "\n",
        "            # Layer Dilated Convolution\n",
        "            nn.Conv2d(in_channels=64, out_channels=64, kernel_size=(3, 3), stride=2, padding=2, dilation=2, bias=False),\n",
        "            nn.BatchNorm2d(64),\n",
        "            nn.ReLU(),\n",
        "            nn.Dropout(dropout_value),\n",
        "            # output: 4, RF: 59\n",
        "        )\n",
        "\n",
        "        self.transition3 = nn.Sequential(\n",
        "            nn.Conv2d(in_channels=64, out_channels=16, kernel_size=(1, 1), padding=0, bias=False),\n",
        "            nn.BatchNorm2d(16),\n",
        "            nn.ReLU()\n",
        "            # output: 4, RF: 59\n",
        "        )\n",
        "\n",
        "        # Block - 4\n",
        "        self.convblock4 = nn.Sequential(\n",
        "            # Layer Dilated Convolution\n",
        "            nn.Conv2d(in_channels=16, out_channels=64, kernel_size=(3, 3), stride=2, padding=2, dilation=2, bias=False),\n",
        "            nn.BatchNorm2d(64),\n",
        "            nn.ReLU(),\n",
        "            # output: 2, RF: 91\n",
        "        )\n",
        "\n",
        "        # Output Block\n",
        "        self.outputblock = nn.Sequential(\n",
        "            nn.AdaptiveAvgPool2d(1),\n",
        "            nn.Conv2d(in_channels=64, out_channels=10, kernel_size=(1, 1), padding=0, bias=False)\n",
        "        )\n",
        "\n",
        "\n",
        "    def forward(self, x):\n",
        "        x = self.convblock1(x)\n",
        "        x = self.transition1(x)\n",
        "        x = self.convblock2(x)\n",
        "        x = self.transition2(x)\n",
        "        x = self.convblock3(x)\n",
        "        x = self.transition3(x)\n",
        "        x = self.convblock4(x)\n",
        "        x = self.outputblock(x)\n",
        "        x = x.view(-1, 10)\n",
        "        return x"
      ],
      "metadata": {
        "id": "jyeXs_-hb4uf"
      },
      "execution_count": null,
      "outputs": []
    },
    {
      "cell_type": "code",
      "source": [
        "!pip install torchsummary\n",
        "from torchsummary import summary\n",
        "use_cuda = torch.cuda.is_available()\n",
        "device = torch.device(\"cuda\" if use_cuda else \"cpu\")\n",
        "print(device)\n",
        "model = CIFAR10_ConvNet().to(device)\n",
        "summary(model, input_size=(3, 32, 32))"
      ],
      "metadata": {
        "colab": {
          "base_uri": "https://localhost:8080/"
        },
        "id": "-ceXXikF-9QW",
        "outputId": "39844719-090f-446f-9282-8f0a2d2a098d"
      },
      "execution_count": null,
      "outputs": [
        {
          "output_type": "stream",
          "name": "stdout",
          "text": [
            "Requirement already satisfied: torchsummary in /usr/local/lib/python3.10/dist-packages (1.5.1)\n",
            "cuda\n",
            "----------------------------------------------------------------\n",
            "        Layer (type)               Output Shape         Param #\n",
            "================================================================\n",
            "            Conv2d-1           [-1, 16, 32, 32]             432\n",
            "       BatchNorm2d-2           [-1, 16, 32, 32]              32\n",
            "              ReLU-3           [-1, 16, 32, 32]               0\n",
            "           Dropout-4           [-1, 16, 32, 32]               0\n",
            "            Conv2d-5           [-1, 32, 32, 32]           4,608\n",
            "       BatchNorm2d-6           [-1, 32, 32, 32]              64\n",
            "              ReLU-7           [-1, 32, 32, 32]               0\n",
            "           Dropout-8           [-1, 32, 32, 32]               0\n",
            "            Conv2d-9           [-1, 32, 32, 32]             320\n",
            "           Conv2d-10           [-1, 64, 32, 32]           2,112\n",
            "      BatchNorm2d-11           [-1, 64, 32, 32]             128\n",
            "             ReLU-12           [-1, 64, 32, 32]               0\n",
            "           Conv2d-13           [-1, 64, 16, 16]          36,864\n",
            "      BatchNorm2d-14           [-1, 64, 16, 16]             128\n",
            "             ReLU-15           [-1, 64, 16, 16]               0\n",
            "          Dropout-16           [-1, 64, 16, 16]               0\n",
            "           Conv2d-17           [-1, 16, 16, 16]           1,024\n",
            "      BatchNorm2d-18           [-1, 16, 16, 16]              32\n",
            "             ReLU-19           [-1, 16, 16, 16]               0\n",
            "           Conv2d-20           [-1, 32, 16, 16]           4,608\n",
            "      BatchNorm2d-21           [-1, 32, 16, 16]              64\n",
            "             ReLU-22           [-1, 32, 16, 16]               0\n",
            "          Dropout-23           [-1, 32, 16, 16]               0\n",
            "           Conv2d-24           [-1, 32, 16, 16]           9,216\n",
            "      BatchNorm2d-25           [-1, 32, 16, 16]              64\n",
            "             ReLU-26           [-1, 32, 16, 16]               0\n",
            "          Dropout-27           [-1, 32, 16, 16]               0\n",
            "           Conv2d-28             [-1, 64, 8, 8]          18,432\n",
            "      BatchNorm2d-29             [-1, 64, 8, 8]             128\n",
            "             ReLU-30             [-1, 64, 8, 8]               0\n",
            "          Dropout-31             [-1, 64, 8, 8]               0\n",
            "           Conv2d-32             [-1, 16, 8, 8]           1,024\n",
            "      BatchNorm2d-33             [-1, 16, 8, 8]              32\n",
            "             ReLU-34             [-1, 16, 8, 8]               0\n",
            "           Conv2d-35             [-1, 32, 8, 8]           4,608\n",
            "      BatchNorm2d-36             [-1, 32, 8, 8]              64\n",
            "             ReLU-37             [-1, 32, 8, 8]               0\n",
            "          Dropout-38             [-1, 32, 8, 8]               0\n",
            "           Conv2d-39             [-1, 64, 8, 8]          18,432\n",
            "      BatchNorm2d-40             [-1, 64, 8, 8]             128\n",
            "             ReLU-41             [-1, 64, 8, 8]               0\n",
            "          Dropout-42             [-1, 64, 8, 8]               0\n",
            "           Conv2d-43             [-1, 64, 4, 4]          36,864\n",
            "      BatchNorm2d-44             [-1, 64, 4, 4]             128\n",
            "             ReLU-45             [-1, 64, 4, 4]               0\n",
            "          Dropout-46             [-1, 64, 4, 4]               0\n",
            "           Conv2d-47             [-1, 16, 4, 4]           1,024\n",
            "      BatchNorm2d-48             [-1, 16, 4, 4]              32\n",
            "             ReLU-49             [-1, 16, 4, 4]               0\n",
            "           Conv2d-50             [-1, 64, 2, 2]           9,216\n",
            "      BatchNorm2d-51             [-1, 64, 2, 2]             128\n",
            "             ReLU-52             [-1, 64, 2, 2]               0\n",
            "AdaptiveAvgPool2d-53             [-1, 64, 1, 1]               0\n",
            "           Conv2d-54             [-1, 10, 1, 1]             640\n",
            "================================================================\n",
            "Total params: 150,576\n",
            "Trainable params: 150,576\n",
            "Non-trainable params: 0\n",
            "----------------------------------------------------------------\n",
            "Input size (MB): 0.01\n",
            "Forward/backward pass size (MB): 4.72\n",
            "Params size (MB): 0.57\n",
            "Estimated Total Size (MB): 5.31\n",
            "----------------------------------------------------------------\n"
          ]
        }
      ]
    },
    {
      "cell_type": "code",
      "source": [
        "from tqdm import tqdm\n",
        "\n",
        "train_losses = []\n",
        "test_losses = []\n",
        "train_acc = []\n",
        "test_acc = []\n",
        "\n",
        "def train(model, device, train_loader, criterion, optimizer, epoch):\n",
        "  model.train()\n",
        "  pbar = tqdm(train_loader)\n",
        "  correct = 0\n",
        "  processed = 0\n",
        "  for batch_idx, (data, target) in enumerate(pbar):\n",
        "    # get samples\n",
        "    data, target = data.to(device), target.to(device)\n",
        "    optimizer.zero_grad()\n",
        "\n",
        "    # Predict\n",
        "    y_pred = model(data)\n",
        "\n",
        "    # Calculate loss\n",
        "    loss = criterion(y_pred, target)\n",
        "    train_losses.append(loss)\n",
        "\n",
        "    # Backpropagation\n",
        "    loss.backward()\n",
        "    optimizer.step()\n",
        "\n",
        "    # Update pbar-tqdm\n",
        "    pred = y_pred.argmax(dim=1, keepdim=True)  # get the index of the max log-probability\n",
        "    correct += pred.eq(target.view_as(pred)).sum().item()\n",
        "    processed += len(data)\n",
        "\n",
        "    pbar.set_description(desc= f'Loss={loss.item()} Batch_id={batch_idx} Accuracy={100*correct/processed:0.2f}')\n",
        "    train_acc.append(100*correct/processed)\n",
        "\n",
        "def test(model, device, test_loader, criterion):\n",
        "    model.eval()\n",
        "    test_loss = 0\n",
        "    correct = 0\n",
        "    with torch.no_grad():\n",
        "        for data, target in test_loader:\n",
        "            data, target = data.to(device), target.to(device)\n",
        "            output = model(data)\n",
        "            test_loss += criterion(output, target).item()  # sum up batch loss\n",
        "            pred = output.argmax(dim=1, keepdim=True)  # get the index of the max log-probability\n",
        "            correct += pred.eq(target.view_as(pred)).sum().item()\n",
        "\n",
        "    test_loss /= len(test_loader.dataset)\n",
        "    test_losses.append(test_loss)\n",
        "\n",
        "    print('\\nTest set: Average loss: {:.4f}, Accuracy: {}/{} ({:.2f}%)\\n'.format(\n",
        "        test_loss, correct, len(test_loader.dataset),\n",
        "        100. * correct / len(test_loader.dataset)))\n",
        "\n",
        "    test_acc.append(100. * correct / len(test_loader.dataset))"
      ],
      "metadata": {
        "id": "PGsnf3UsrJVo"
      },
      "execution_count": null,
      "outputs": []
    },
    {
      "cell_type": "code",
      "source": [
        "model = CIFAR10_ConvNet().to(device)\n",
        "\n",
        "# Loss and optimizer\n",
        "criterion = nn.CrossEntropyLoss()\n",
        "optimizer = optim.Adam(model.parameters(), lr=learning_rate)\n",
        "\n",
        "# step_lr\n",
        "lr_scheduler = torch.optim.lr_scheduler.StepLR(optimizer, step_size=10, gamma=0.1)\n",
        "\n",
        "lr_scheduler = torch.optim.lr_scheduler.OneCycleLR(\n",
        "                            optimizer,\n",
        "                            max_lr=0.1,\n",
        "                            steps_per_epoch=len(train_loader),\n",
        "                            epochs=num_epochs\n",
        "                        )\n",
        "\n",
        "# train loop\n",
        "for epoch in range(1, num_epochs + 1):\n",
        "    print(\"Epoch: \", epoch)\n",
        "    print(\"Learning rate: \", optimizer.state_dict()['param_groups'][0]['lr'])\n",
        "    train(model, device, train_loader, criterion, optimizer, epoch)\n",
        "    test(model, device, test_loader, criterion)\n",
        "    lr_scheduler.step()"
      ],
      "metadata": {
        "colab": {
          "base_uri": "https://localhost:8080/"
        },
        "id": "2dTGe1PasR1c",
        "outputId": "bdd89c48-1ae7-44d4-ec67-492ac1055da5"
      },
      "execution_count": null,
      "outputs": [
        {
          "metadata": {
            "tags": null
          },
          "name": "stdout",
          "output_type": "stream",
          "text": [
            "Epoch:  1\n",
            "Learning rate:  0.0040000000000000036\n"
          ]
        },
        {
          "metadata": {
            "tags": null
          },
          "name": "stderr",
          "output_type": "stream",
          "text": [
            "Loss=1.674565315246582 Batch_id=390 Accuracy=33.39: 100%|██████████| 391/391 [00:49<00:00,  7.85it/s]\n"
          ]
        },
        {
          "metadata": {
            "tags": null
          },
          "name": "stdout",
          "output_type": "stream",
          "text": [
            "\n",
            "Test set: Average loss: 0.0120, Accuracy: 4389/10000 (43.89%)\n",
            "\n",
            "Epoch:  2\n",
            "Learning rate:  0.004000001721825006\n"
          ]
        },
        {
          "metadata": {
            "tags": null
          },
          "name": "stderr",
          "output_type": "stream",
          "text": [
            "Loss=1.3594435453414917 Batch_id=390 Accuracy=44.87: 100%|██████████| 391/391 [00:42<00:00,  9.26it/s]\n"
          ]
        },
        {
          "metadata": {
            "tags": null
          },
          "name": "stdout",
          "output_type": "stream",
          "text": [
            "\n",
            "Test set: Average loss: 0.0106, Accuracy: 5081/10000 (50.81%)\n",
            "\n",
            "Epoch:  3\n",
            "Learning rate:  0.004000006887299928\n"
          ]
        },
        {
          "metadata": {
            "tags": null
          },
          "name": "stderr",
          "output_type": "stream",
          "text": [
            "Loss=1.2722824811935425 Batch_id=390 Accuracy=51.17: 100%|██████████| 391/391 [00:41<00:00,  9.35it/s]\n"
          ]
        },
        {
          "metadata": {
            "tags": null
          },
          "name": "stdout",
          "output_type": "stream",
          "text": [
            "\n",
            "Test set: Average loss: 0.0088, Accuracy: 5983/10000 (59.83%)\n",
            "\n",
            "Epoch:  4\n",
            "Learning rate:  0.004000015496424356\n"
          ]
        },
        {
          "metadata": {
            "tags": null
          },
          "name": "stderr",
          "output_type": "stream",
          "text": [
            "Loss=1.4783557653427124 Batch_id=390 Accuracy=54.33: 100%|██████████| 391/391 [00:41<00:00,  9.43it/s]\n"
          ]
        },
        {
          "metadata": {
            "tags": null
          },
          "name": "stdout",
          "output_type": "stream",
          "text": [
            "\n",
            "Test set: Average loss: 0.0083, Accuracy: 6241/10000 (62.41%)\n",
            "\n",
            "Epoch:  5\n",
            "Learning rate:  0.004000027549197704\n"
          ]
        },
        {
          "metadata": {
            "tags": null
          },
          "name": "stderr",
          "output_type": "stream",
          "text": [
            "Loss=1.2672476768493652 Batch_id=390 Accuracy=56.79: 100%|██████████| 391/391 [00:40<00:00,  9.56it/s]\n"
          ]
        },
        {
          "metadata": {
            "tags": null
          },
          "name": "stdout",
          "output_type": "stream",
          "text": [
            "\n",
            "Test set: Average loss: 0.0085, Accuracy: 6238/10000 (62.38%)\n",
            "\n",
            "Epoch:  6\n",
            "Learning rate:  0.0040000430456191005\n"
          ]
        },
        {
          "metadata": {
            "tags": null
          },
          "name": "stderr",
          "output_type": "stream",
          "text": [
            "Loss=1.143467664718628 Batch_id=390 Accuracy=58.79: 100%|██████████| 391/391 [00:40<00:00,  9.54it/s]\n"
          ]
        },
        {
          "metadata": {
            "tags": null
          },
          "name": "stdout",
          "output_type": "stream",
          "text": [
            "\n",
            "Test set: Average loss: 0.0073, Accuracy: 6696/10000 (66.96%)\n",
            "\n",
            "Epoch:  7\n",
            "Learning rate:  0.00400006198568742\n"
          ]
        },
        {
          "metadata": {
            "tags": null
          },
          "name": "stderr",
          "output_type": "stream",
          "text": [
            "Loss=1.0217262506484985 Batch_id=390 Accuracy=60.56: 100%|██████████| 391/391 [00:41<00:00,  9.40it/s]\n"
          ]
        },
        {
          "metadata": {
            "tags": null
          },
          "name": "stdout",
          "output_type": "stream",
          "text": [
            "\n",
            "Test set: Average loss: 0.0072, Accuracy: 6766/10000 (67.66%)\n",
            "\n",
            "Epoch:  8\n",
            "Learning rate:  0.004000084369401316\n"
          ]
        },
        {
          "metadata": {
            "tags": null
          },
          "name": "stderr",
          "output_type": "stream",
          "text": [
            "Loss=1.2247064113616943 Batch_id=390 Accuracy=62.25: 100%|██████████| 391/391 [00:41<00:00,  9.38it/s]\n"
          ]
        },
        {
          "metadata": {
            "tags": null
          },
          "name": "stdout",
          "output_type": "stream",
          "text": [
            "\n",
            "Test set: Average loss: 0.0069, Accuracy: 6902/10000 (69.02%)\n",
            "\n",
            "Epoch:  9\n",
            "Learning rate:  0.0040001101967591796\n"
          ]
        },
        {
          "metadata": {
            "tags": null
          },
          "name": "stderr",
          "output_type": "stream",
          "text": [
            "Loss=1.21384596824646 Batch_id=390 Accuracy=63.42: 100%|██████████| 391/391 [00:41<00:00,  9.52it/s]\n"
          ]
        },
        {
          "metadata": {
            "tags": null
          },
          "name": "stdout",
          "output_type": "stream",
          "text": [
            "\n",
            "Test set: Average loss: 0.0076, Accuracy: 6720/10000 (67.20%)\n",
            "\n",
            "Epoch:  10\n",
            "Learning rate:  0.0040001394677591645\n"
          ]
        },
        {
          "metadata": {
            "tags": null
          },
          "name": "stderr",
          "output_type": "stream",
          "text": [
            "Loss=1.1351549625396729 Batch_id=390 Accuracy=64.52: 100%|██████████| 391/391 [00:41<00:00,  9.43it/s]\n"
          ]
        },
        {
          "metadata": {
            "tags": null
          },
          "name": "stdout",
          "output_type": "stream",
          "text": [
            "\n",
            "Test set: Average loss: 0.0063, Accuracy: 7198/10000 (71.98%)\n",
            "\n",
            "Epoch:  11\n",
            "Learning rate:  0.0040001721823991615\n"
          ]
        },
        {
          "metadata": {
            "tags": null
          },
          "name": "stderr",
          "output_type": "stream",
          "text": [
            "Loss=0.8469350934028625 Batch_id=390 Accuracy=65.26: 100%|██████████| 391/391 [00:40<00:00,  9.62it/s]\n"
          ]
        },
        {
          "metadata": {
            "tags": null
          },
          "name": "stdout",
          "output_type": "stream",
          "text": [
            "\n",
            "Test set: Average loss: 0.0062, Accuracy: 7245/10000 (72.45%)\n",
            "\n",
            "Epoch:  12\n",
            "Learning rate:  0.004000208340676825\n"
          ]
        },
        {
          "metadata": {
            "tags": null
          },
          "name": "stderr",
          "output_type": "stream",
          "text": [
            "Loss=0.9223294258117676 Batch_id=390 Accuracy=66.40: 100%|██████████| 391/391 [00:40<00:00,  9.58it/s]\n"
          ]
        },
        {
          "metadata": {
            "tags": null
          },
          "name": "stdout",
          "output_type": "stream",
          "text": [
            "\n",
            "Test set: Average loss: 0.0062, Accuracy: 7275/10000 (72.75%)\n",
            "\n",
            "Epoch:  13\n",
            "Learning rate:  0.00400024794258956\n"
          ]
        },
        {
          "metadata": {
            "tags": null
          },
          "name": "stderr",
          "output_type": "stream",
          "text": [
            "Loss=1.1258251667022705 Batch_id=390 Accuracy=67.09: 100%|██████████| 391/391 [00:41<00:00,  9.48it/s]\n"
          ]
        },
        {
          "metadata": {
            "tags": null
          },
          "name": "stdout",
          "output_type": "stream",
          "text": [
            "\n",
            "Test set: Average loss: 0.0061, Accuracy: 7316/10000 (73.16%)\n",
            "\n",
            "Epoch:  14\n",
            "Learning rate:  0.004000290988134536\n"
          ]
        },
        {
          "metadata": {
            "tags": null
          },
          "name": "stderr",
          "output_type": "stream",
          "text": [
            "Loss=0.99415522813797 Batch_id=390 Accuracy=67.84: 100%|██████████| 391/391 [00:41<00:00,  9.33it/s]\n"
          ]
        },
        {
          "metadata": {
            "tags": null
          },
          "name": "stdout",
          "output_type": "stream",
          "text": [
            "\n",
            "Test set: Average loss: 0.0060, Accuracy: 7406/10000 (74.06%)\n",
            "\n",
            "Epoch:  15\n",
            "Learning rate:  0.0040003374773086575\n"
          ]
        },
        {
          "metadata": {
            "tags": null
          },
          "name": "stderr",
          "output_type": "stream",
          "text": [
            "Loss=1.0922236442565918 Batch_id=390 Accuracy=68.61: 100%|██████████| 391/391 [00:41<00:00,  9.49it/s]\n"
          ]
        },
        {
          "metadata": {
            "tags": null
          },
          "name": "stdout",
          "output_type": "stream",
          "text": [
            "\n",
            "Test set: Average loss: 0.0056, Accuracy: 7470/10000 (74.70%)\n",
            "\n",
            "Epoch:  16\n",
            "Learning rate:  0.004000387410108566\n"
          ]
        },
        {
          "metadata": {
            "tags": null
          },
          "name": "stderr",
          "output_type": "stream",
          "text": [
            "Loss=0.7836856842041016 Batch_id=390 Accuracy=69.31: 100%|██████████| 391/391 [00:41<00:00,  9.44it/s]\n"
          ]
        },
        {
          "metadata": {
            "tags": null
          },
          "name": "stdout",
          "output_type": "stream",
          "text": [
            "\n",
            "Test set: Average loss: 0.0056, Accuracy: 7568/10000 (75.68%)\n",
            "\n",
            "Epoch:  17\n",
            "Learning rate:  0.0040004407865307234\n"
          ]
        },
        {
          "metadata": {
            "tags": null
          },
          "name": "stderr",
          "output_type": "stream",
          "text": [
            "Loss=0.9401439428329468 Batch_id=390 Accuracy=69.38: 100%|██████████| 391/391 [00:40<00:00,  9.60it/s]\n"
          ]
        },
        {
          "metadata": {
            "tags": null
          },
          "name": "stdout",
          "output_type": "stream",
          "text": [
            "\n",
            "Test set: Average loss: 0.0054, Accuracy: 7614/10000 (76.14%)\n",
            "\n",
            "Epoch:  18\n",
            "Learning rate:  0.004000497606571285\n"
          ]
        },
        {
          "metadata": {
            "tags": null
          },
          "name": "stderr",
          "output_type": "stream",
          "text": [
            "Loss=0.873416543006897 Batch_id=390 Accuracy=69.99: 100%|██████████| 391/391 [00:41<00:00,  9.46it/s]\n"
          ]
        },
        {
          "metadata": {
            "tags": null
          },
          "name": "stdout",
          "output_type": "stream",
          "text": [
            "\n",
            "Test set: Average loss: 0.0054, Accuracy: 7603/10000 (76.03%)\n",
            "\n",
            "Epoch:  19\n",
            "Learning rate:  0.004000557870226157\n"
          ]
        },
        {
          "metadata": {
            "tags": null
          },
          "name": "stderr",
          "output_type": "stream",
          "text": [
            "Loss=0.9444351196289062 Batch_id=390 Accuracy=70.48: 100%|██████████| 391/391 [00:40<00:00,  9.65it/s]\n"
          ]
        },
        {
          "metadata": {
            "tags": null
          },
          "name": "stdout",
          "output_type": "stream",
          "text": [
            "\n",
            "Test set: Average loss: 0.0050, Accuracy: 7776/10000 (77.76%)\n",
            "\n",
            "Epoch:  20\n",
            "Learning rate:  0.004000621577491023\n"
          ]
        },
        {
          "metadata": {
            "tags": null
          },
          "name": "stderr",
          "output_type": "stream",
          "text": [
            "Loss=0.9986352920532227 Batch_id=390 Accuracy=70.79: 100%|██████████| 391/391 [00:42<00:00,  9.30it/s]\n"
          ]
        },
        {
          "metadata": {
            "tags": null
          },
          "name": "stdout",
          "output_type": "stream",
          "text": [
            "\n",
            "Test set: Average loss: 0.0055, Accuracy: 7618/10000 (76.18%)\n",
            "\n",
            "Epoch:  21\n",
            "Learning rate:  0.004000688728361318\n"
          ]
        },
        {
          "metadata": {
            "tags": null
          },
          "name": "stderr",
          "output_type": "stream",
          "text": [
            "Loss=0.7034445405006409 Batch_id=390 Accuracy=71.54: 100%|██████████| 391/391 [00:41<00:00,  9.51it/s]\n"
          ]
        },
        {
          "metadata": {
            "tags": null
          },
          "name": "stdout",
          "output_type": "stream",
          "text": [
            "\n",
            "Test set: Average loss: 0.0050, Accuracy: 7784/10000 (77.84%)\n",
            "\n",
            "Epoch:  22\n",
            "Learning rate:  0.004000759322832226\n"
          ]
        },
        {
          "metadata": {
            "tags": null
          },
          "name": "stderr",
          "output_type": "stream",
          "text": [
            "Loss=0.8977529406547546 Batch_id=390 Accuracy=71.42: 100%|██████████| 391/391 [00:40<00:00,  9.54it/s]\n"
          ]
        },
        {
          "metadata": {
            "tags": null
          },
          "name": "stdout",
          "output_type": "stream",
          "text": [
            "\n",
            "Test set: Average loss: 0.0049, Accuracy: 7854/10000 (78.54%)\n",
            "\n",
            "Epoch:  23\n",
            "Learning rate:  0.004000833360898695\n"
          ]
        },
        {
          "metadata": {
            "tags": null
          },
          "name": "stderr",
          "output_type": "stream",
          "text": [
            "Loss=0.7404463291168213 Batch_id=390 Accuracy=72.14: 100%|██████████| 391/391 [00:40<00:00,  9.61it/s]\n"
          ]
        },
        {
          "metadata": {
            "tags": null
          },
          "name": "stdout",
          "output_type": "stream",
          "text": [
            "\n",
            "Test set: Average loss: 0.0048, Accuracy: 7898/10000 (78.98%)\n",
            "\n",
            "Epoch:  24\n",
            "Learning rate:  0.004000910842555383\n"
          ]
        },
        {
          "metadata": {
            "tags": null
          },
          "name": "stderr",
          "output_type": "stream",
          "text": [
            "Loss=0.6886987686157227 Batch_id=390 Accuracy=72.30: 100%|██████████| 391/391 [00:40<00:00,  9.55it/s]\n"
          ]
        },
        {
          "metadata": {
            "tags": null
          },
          "name": "stdout",
          "output_type": "stream",
          "text": [
            "\n",
            "Test set: Average loss: 0.0047, Accuracy: 7916/10000 (79.16%)\n",
            "\n",
            "Epoch:  25\n",
            "Learning rate:  0.004000991767796738\n"
          ]
        },
        {
          "metadata": {
            "tags": null
          },
          "name": "stderr",
          "output_type": "stream",
          "text": [
            "Loss=0.6425908803939819 Batch_id=390 Accuracy=72.39: 100%|██████████| 391/391 [00:40<00:00,  9.65it/s]\n"
          ]
        },
        {
          "metadata": {
            "tags": null
          },
          "name": "stdout",
          "output_type": "stream",
          "text": [
            "\n",
            "Test set: Average loss: 0.0047, Accuracy: 7964/10000 (79.64%)\n",
            "\n",
            "Epoch:  26\n",
            "Learning rate:  0.004001076136616974\n"
          ]
        },
        {
          "metadata": {
            "tags": null
          },
          "name": "stderr",
          "output_type": "stream",
          "text": [
            "Loss=0.8541432619094849 Batch_id=390 Accuracy=72.56: 100%|██████████| 391/391 [00:40<00:00,  9.61it/s]\n"
          ]
        },
        {
          "metadata": {
            "tags": null
          },
          "name": "stdout",
          "output_type": "stream",
          "text": [
            "\n",
            "Test set: Average loss: 0.0047, Accuracy: 7969/10000 (79.69%)\n",
            "\n",
            "Epoch:  27\n",
            "Learning rate:  0.004001163949010025\n"
          ]
        },
        {
          "metadata": {
            "tags": null
          },
          "name": "stderr",
          "output_type": "stream",
          "text": [
            "Loss=0.6786538362503052 Batch_id=390 Accuracy=72.93: 100%|██████████| 391/391 [00:40<00:00,  9.62it/s]\n"
          ]
        },
        {
          "metadata": {
            "tags": null
          },
          "name": "stdout",
          "output_type": "stream",
          "text": [
            "\n",
            "Test set: Average loss: 0.0046, Accuracy: 7994/10000 (79.94%)\n",
            "\n",
            "Epoch:  28\n",
            "Learning rate:  0.004001255204969578\n"
          ]
        },
        {
          "metadata": {
            "tags": null
          },
          "name": "stderr",
          "output_type": "stream",
          "text": [
            "Loss=0.6492525935173035 Batch_id=390 Accuracy=73.18: 100%|██████████| 391/391 [00:40<00:00,  9.67it/s]\n"
          ]
        },
        {
          "metadata": {
            "tags": null
          },
          "name": "stdout",
          "output_type": "stream",
          "text": [
            "\n",
            "Test set: Average loss: 0.0048, Accuracy: 7947/10000 (79.47%)\n",
            "\n",
            "Epoch:  29\n",
            "Learning rate:  0.004001349904489124\n"
          ]
        },
        {
          "metadata": {
            "tags": null
          },
          "name": "stderr",
          "output_type": "stream",
          "text": [
            "Loss=0.7305186986923218 Batch_id=390 Accuracy=73.71: 100%|██████████| 391/391 [00:40<00:00,  9.66it/s]\n"
          ]
        },
        {
          "metadata": {
            "tags": null
          },
          "name": "stdout",
          "output_type": "stream",
          "text": [
            "\n",
            "Test set: Average loss: 0.0046, Accuracy: 8018/10000 (80.18%)\n",
            "\n",
            "Epoch:  30\n",
            "Learning rate:  0.004001448047561834\n"
          ]
        },
        {
          "metadata": {
            "tags": null
          },
          "name": "stderr",
          "output_type": "stream",
          "text": [
            "Loss=0.8429633378982544 Batch_id=390 Accuracy=73.53: 100%|██████████| 391/391 [00:40<00:00,  9.65it/s]\n"
          ]
        },
        {
          "metadata": {
            "tags": null
          },
          "name": "stdout",
          "output_type": "stream",
          "text": [
            "\n",
            "Test set: Average loss: 0.0043, Accuracy: 8088/10000 (80.88%)\n",
            "\n",
            "Epoch:  31\n",
            "Learning rate:  0.004001549634180673\n"
          ]
        },
        {
          "metadata": {
            "tags": null
          },
          "name": "stderr",
          "output_type": "stream",
          "text": [
            "Loss=0.8712469935417175 Batch_id=390 Accuracy=73.97: 100%|██████████| 391/391 [00:40<00:00,  9.62it/s]\n"
          ]
        },
        {
          "metadata": {
            "tags": null
          },
          "name": "stdout",
          "output_type": "stream",
          "text": [
            "\n",
            "Test set: Average loss: 0.0048, Accuracy: 7936/10000 (79.36%)\n",
            "\n",
            "Epoch:  32\n",
            "Learning rate:  0.0040016546643383555\n"
          ]
        },
        {
          "metadata": {
            "tags": null
          },
          "name": "stderr",
          "output_type": "stream",
          "text": [
            "Loss=0.6549279093742371 Batch_id=390 Accuracy=73.93: 100%|██████████| 391/391 [00:40<00:00,  9.64it/s]\n"
          ]
        },
        {
          "metadata": {
            "tags": null
          },
          "name": "stdout",
          "output_type": "stream",
          "text": [
            "\n",
            "Test set: Average loss: 0.0044, Accuracy: 8100/10000 (81.00%)\n",
            "\n",
            "Epoch:  33\n",
            "Learning rate:  0.004001763138027373\n"
          ]
        },
        {
          "metadata": {
            "tags": null
          },
          "name": "stderr",
          "output_type": "stream",
          "text": [
            "Loss=0.731695830821991 Batch_id=390 Accuracy=74.46: 100%|██████████| 391/391 [00:40<00:00,  9.56it/s]\n"
          ]
        },
        {
          "metadata": {
            "tags": null
          },
          "name": "stdout",
          "output_type": "stream",
          "text": [
            "\n",
            "Test set: Average loss: 0.0045, Accuracy: 8021/10000 (80.21%)\n",
            "\n",
            "Epoch:  34\n",
            "Learning rate:  0.004001875055239884\n"
          ]
        },
        {
          "metadata": {
            "tags": null
          },
          "name": "stderr",
          "output_type": "stream",
          "text": [
            "Loss=0.8350318074226379 Batch_id=390 Accuracy=74.61: 100%|██████████| 391/391 [00:40<00:00,  9.64it/s]\n"
          ]
        },
        {
          "metadata": {
            "tags": null
          },
          "name": "stdout",
          "output_type": "stream",
          "text": [
            "\n",
            "Test set: Average loss: 0.0044, Accuracy: 8128/10000 (81.28%)\n",
            "\n",
            "Epoch:  35\n",
            "Learning rate:  0.004001990415967924\n"
          ]
        },
        {
          "metadata": {
            "tags": null
          },
          "name": "stderr",
          "output_type": "stream",
          "text": [
            "Loss=0.7317013740539551 Batch_id=390 Accuracy=74.87: 100%|██████████| 391/391 [00:40<00:00,  9.60it/s]\n"
          ]
        },
        {
          "metadata": {
            "tags": null
          },
          "name": "stdout",
          "output_type": "stream",
          "text": [
            "\n",
            "Test set: Average loss: 0.0043, Accuracy: 8116/10000 (81.16%)\n",
            "\n",
            "Epoch:  36\n",
            "Learning rate:  0.004002109220203179\n"
          ]
        },
        {
          "metadata": {
            "tags": null
          },
          "name": "stderr",
          "output_type": "stream",
          "text": [
            "Loss=0.6987301111221313 Batch_id=390 Accuracy=74.82: 100%|██████████| 391/391 [00:40<00:00,  9.58it/s]\n"
          ]
        },
        {
          "metadata": {
            "tags": null
          },
          "name": "stdout",
          "output_type": "stream",
          "text": [
            "\n",
            "Test set: Average loss: 0.0042, Accuracy: 8194/10000 (81.94%)\n",
            "\n",
            "Epoch:  37\n",
            "Learning rate:  0.0040022314679371285\n"
          ]
        },
        {
          "metadata": {
            "tags": null
          },
          "name": "stderr",
          "output_type": "stream",
          "text": [
            "Loss=0.6903976202011108 Batch_id=390 Accuracy=74.76: 100%|██████████| 391/391 [00:40<00:00,  9.55it/s]\n"
          ]
        },
        {
          "metadata": {
            "tags": null
          },
          "name": "stdout",
          "output_type": "stream",
          "text": [
            "\n",
            "Test set: Average loss: 0.0043, Accuracy: 8127/10000 (81.27%)\n",
            "\n",
            "Epoch:  38\n",
            "Learning rate:  0.004002357159161016\n"
          ]
        },
        {
          "metadata": {
            "tags": null
          },
          "name": "stderr",
          "output_type": "stream",
          "text": [
            "Loss=0.776331901550293 Batch_id=390 Accuracy=74.99: 100%|██████████| 391/391 [00:40<00:00,  9.66it/s]\n"
          ]
        },
        {
          "metadata": {
            "tags": null
          },
          "name": "stdout",
          "output_type": "stream",
          "text": [
            "\n",
            "Test set: Average loss: 0.0042, Accuracy: 8190/10000 (81.90%)\n",
            "\n",
            "Epoch:  39\n",
            "Learning rate:  0.004002486293865806\n"
          ]
        },
        {
          "metadata": {
            "tags": null
          },
          "name": "stderr",
          "output_type": "stream",
          "text": [
            "Loss=0.7064996957778931 Batch_id=390 Accuracy=75.17: 100%|██████████| 391/391 [00:40<00:00,  9.55it/s]\n"
          ]
        },
        {
          "metadata": {
            "tags": null
          },
          "name": "stdout",
          "output_type": "stream",
          "text": [
            "\n",
            "Test set: Average loss: 0.0045, Accuracy: 8054/10000 (80.54%)\n",
            "\n",
            "Epoch:  40\n",
            "Learning rate:  0.004002618872042257\n"
          ]
        },
        {
          "metadata": {
            "tags": null
          },
          "name": "stderr",
          "output_type": "stream",
          "text": [
            "Loss=0.7962319850921631 Batch_id=390 Accuracy=75.60: 100%|██████████| 391/391 [00:40<00:00,  9.59it/s]\n"
          ]
        },
        {
          "metadata": {
            "tags": null
          },
          "name": "stdout",
          "output_type": "stream",
          "text": [
            "\n",
            "Test set: Average loss: 0.0045, Accuracy: 8085/10000 (80.85%)\n",
            "\n",
            "Epoch:  41\n",
            "Learning rate:  0.004002754893680835\n"
          ]
        },
        {
          "metadata": {
            "tags": null
          },
          "name": "stderr",
          "output_type": "stream",
          "text": [
            "Loss=0.8051894307136536 Batch_id=390 Accuracy=75.62: 100%|██████████| 391/391 [00:41<00:00,  9.50it/s]\n"
          ]
        },
        {
          "metadata": {
            "tags": null
          },
          "name": "stdout",
          "output_type": "stream",
          "text": [
            "\n",
            "Test set: Average loss: 0.0043, Accuracy: 8216/10000 (82.16%)\n",
            "\n",
            "Epoch:  42\n",
            "Learning rate:  0.004002894358771797\n"
          ]
        },
        {
          "metadata": {
            "tags": null
          },
          "name": "stderr",
          "output_type": "stream",
          "text": [
            "Loss=0.6317909955978394 Batch_id=390 Accuracy=75.62: 100%|██████████| 391/391 [00:40<00:00,  9.65it/s]\n"
          ]
        },
        {
          "metadata": {
            "tags": null
          },
          "name": "stdout",
          "output_type": "stream",
          "text": [
            "\n",
            "Test set: Average loss: 0.0041, Accuracy: 8211/10000 (82.11%)\n",
            "\n",
            "Epoch:  43\n",
            "Learning rate:  0.0040030372673051234\n"
          ]
        },
        {
          "metadata": {
            "tags": null
          },
          "name": "stderr",
          "output_type": "stream",
          "text": [
            "Loss=0.7083423137664795 Batch_id=390 Accuracy=75.97: 100%|██████████| 391/391 [00:41<00:00,  9.53it/s]\n"
          ]
        },
        {
          "metadata": {
            "tags": null
          },
          "name": "stdout",
          "output_type": "stream",
          "text": [
            "\n",
            "Test set: Average loss: 0.0041, Accuracy: 8218/10000 (82.18%)\n",
            "\n",
            "Epoch:  44\n",
            "Learning rate:  0.004003183619270573\n"
          ]
        },
        {
          "metadata": {
            "tags": null
          },
          "name": "stderr",
          "output_type": "stream",
          "text": [
            "Loss=1.0098849534988403 Batch_id=390 Accuracy=76.03: 100%|██████████| 391/391 [00:40<00:00,  9.67it/s]\n"
          ]
        },
        {
          "metadata": {
            "tags": null
          },
          "name": "stdout",
          "output_type": "stream",
          "text": [
            "\n",
            "Test set: Average loss: 0.0040, Accuracy: 8280/10000 (82.80%)\n",
            "\n",
            "Epoch:  45\n",
            "Learning rate:  0.004003333414657639\n"
          ]
        },
        {
          "metadata": {
            "tags": null
          },
          "name": "stderr",
          "output_type": "stream",
          "text": [
            "Loss=0.44520872831344604 Batch_id=390 Accuracy=76.06: 100%|██████████| 391/391 [00:40<00:00,  9.55it/s]\n"
          ]
        },
        {
          "metadata": {
            "tags": null
          },
          "name": "stdout",
          "output_type": "stream",
          "text": [
            "\n",
            "Test set: Average loss: 0.0041, Accuracy: 8238/10000 (82.38%)\n",
            "\n",
            "Epoch:  46\n",
            "Learning rate:  0.004003486653455582\n"
          ]
        },
        {
          "metadata": {
            "tags": null
          },
          "name": "stderr",
          "output_type": "stream",
          "text": [
            "Loss=0.7004948854446411 Batch_id=390 Accuracy=76.04: 100%|██████████| 391/391 [00:40<00:00,  9.54it/s]\n"
          ]
        },
        {
          "metadata": {
            "tags": null
          },
          "name": "stdout",
          "output_type": "stream",
          "text": [
            "\n",
            "Test set: Average loss: 0.0039, Accuracy: 8325/10000 (83.25%)\n",
            "\n",
            "Epoch:  47\n",
            "Learning rate:  0.004003643335653395\n"
          ]
        },
        {
          "metadata": {
            "tags": null
          },
          "name": "stderr",
          "output_type": "stream",
          "text": [
            "Loss=0.8314526677131653 Batch_id=390 Accuracy=76.67: 100%|██████████| 391/391 [00:41<00:00,  9.38it/s]\n"
          ]
        },
        {
          "metadata": {
            "tags": null
          },
          "name": "stdout",
          "output_type": "stream",
          "text": [
            "\n",
            "Test set: Average loss: 0.0039, Accuracy: 8311/10000 (83.11%)\n",
            "\n",
            "Epoch:  48\n",
            "Learning rate:  0.004003803461239866\n"
          ]
        },
        {
          "metadata": {
            "tags": null
          },
          "name": "stderr",
          "output_type": "stream",
          "text": [
            "Loss=0.8919135928153992 Batch_id=390 Accuracy=76.57: 100%|██████████| 391/391 [00:41<00:00,  9.53it/s]\n"
          ]
        },
        {
          "metadata": {
            "tags": null
          },
          "name": "stdout",
          "output_type": "stream",
          "text": [
            "\n",
            "Test set: Average loss: 0.0041, Accuracy: 8250/10000 (82.50%)\n",
            "\n",
            "Epoch:  49\n",
            "Learning rate:  0.004003967030203476\n"
          ]
        },
        {
          "metadata": {
            "tags": null
          },
          "name": "stderr",
          "output_type": "stream",
          "text": [
            "Loss=0.640898585319519 Batch_id=390 Accuracy=76.44: 100%|██████████| 391/391 [00:41<00:00,  9.40it/s]\n"
          ]
        },
        {
          "metadata": {
            "tags": null
          },
          "name": "stdout",
          "output_type": "stream",
          "text": [
            "\n",
            "Test set: Average loss: 0.0040, Accuracy: 8283/10000 (82.83%)\n",
            "\n",
            "Epoch:  50\n",
            "Learning rate:  0.004004134042532498\n"
          ]
        },
        {
          "metadata": {
            "tags": null
          },
          "name": "stderr",
          "output_type": "stream",
          "text": [
            "Loss=0.5064693689346313 Batch_id=390 Accuracy=76.45: 100%|██████████| 391/391 [00:40<00:00,  9.57it/s]\n"
          ]
        },
        {
          "metadata": {
            "tags": null
          },
          "name": "stdout",
          "output_type": "stream",
          "text": [
            "\n",
            "Test set: Average loss: 0.0039, Accuracy: 8330/10000 (83.30%)\n",
            "\n",
            "Epoch:  51\n",
            "Learning rate:  0.004004304498214956\n"
          ]
        },
        {
          "metadata": {
            "tags": null
          },
          "name": "stderr",
          "output_type": "stream",
          "text": [
            "Loss=0.7892385125160217 Batch_id=390 Accuracy=76.90: 100%|██████████| 391/391 [00:40<00:00,  9.55it/s]\n"
          ]
        },
        {
          "metadata": {
            "tags": null
          },
          "name": "stdout",
          "output_type": "stream",
          "text": [
            "\n",
            "Test set: Average loss: 0.0039, Accuracy: 8344/10000 (83.44%)\n",
            "\n",
            "Epoch:  52\n",
            "Learning rate:  0.004004478397238623\n"
          ]
        },
        {
          "metadata": {
            "tags": null
          },
          "name": "stderr",
          "output_type": "stream",
          "text": [
            "Loss=0.7206576466560364 Batch_id=390 Accuracy=76.64: 100%|██████████| 391/391 [00:40<00:00,  9.54it/s]\n"
          ]
        },
        {
          "metadata": {
            "tags": null
          },
          "name": "stdout",
          "output_type": "stream",
          "text": [
            "\n",
            "Test set: Average loss: 0.0040, Accuracy: 8310/10000 (83.10%)\n",
            "\n",
            "Epoch:  53\n",
            "Learning rate:  0.004004655739591023\n"
          ]
        },
        {
          "metadata": {
            "tags": null
          },
          "name": "stderr",
          "output_type": "stream",
          "text": [
            "Loss=0.7046281695365906 Batch_id=390 Accuracy=76.84: 100%|██████████| 391/391 [00:40<00:00,  9.66it/s]\n"
          ]
        },
        {
          "metadata": {
            "tags": null
          },
          "name": "stdout",
          "output_type": "stream",
          "text": [
            "\n",
            "Test set: Average loss: 0.0039, Accuracy: 8334/10000 (83.34%)\n",
            "\n",
            "Epoch:  54\n",
            "Learning rate:  0.004004836525259417\n"
          ]
        },
        {
          "metadata": {
            "tags": null
          },
          "name": "stderr",
          "output_type": "stream",
          "text": [
            "Loss=0.637482762336731 Batch_id=390 Accuracy=77.07: 100%|██████████| 391/391 [00:41<00:00,  9.52it/s]\n"
          ]
        },
        {
          "metadata": {
            "tags": null
          },
          "name": "stdout",
          "output_type": "stream",
          "text": [
            "\n",
            "Test set: Average loss: 0.0038, Accuracy: 8374/10000 (83.74%)\n",
            "\n",
            "Epoch:  55\n",
            "Learning rate:  0.0040050207542308425\n"
          ]
        },
        {
          "metadata": {
            "tags": null
          },
          "name": "stderr",
          "output_type": "stream",
          "text": [
            "Loss=0.5130741596221924 Batch_id=390 Accuracy=77.09: 100%|██████████| 391/391 [00:40<00:00,  9.54it/s]\n"
          ]
        },
        {
          "metadata": {
            "tags": null
          },
          "name": "stdout",
          "output_type": "stream",
          "text": [
            "\n",
            "Test set: Average loss: 0.0038, Accuracy: 8363/10000 (83.63%)\n",
            "\n",
            "Epoch:  56\n",
            "Learning rate:  0.004005208426492102\n"
          ]
        },
        {
          "metadata": {
            "tags": null
          },
          "name": "stderr",
          "output_type": "stream",
          "text": [
            "Loss=0.4899267256259918 Batch_id=390 Accuracy=77.04: 100%|██████████| 391/391 [00:41<00:00,  9.51it/s]\n"
          ]
        },
        {
          "metadata": {
            "tags": null
          },
          "name": "stdout",
          "output_type": "stream",
          "text": [
            "\n",
            "Test set: Average loss: 0.0037, Accuracy: 8378/10000 (83.78%)\n",
            "\n",
            "Epoch:  57\n",
            "Learning rate:  0.004005399542029706\n"
          ]
        },
        {
          "output_type": "stream",
          "name": "stderr",
          "text": [
            "Loss=0.6366291046142578 Batch_id=390 Accuracy=77.36: 100%|██████████| 391/391 [00:40<00:00,  9.68it/s]\n"
          ]
        },
        {
          "output_type": "stream",
          "name": "stdout",
          "text": [
            "\n",
            "Test set: Average loss: 0.0038, Accuracy: 8353/10000 (83.53%)\n",
            "\n",
            "Epoch:  58\n",
            "Learning rate:  0.004005594100829957\n"
          ]
        },
        {
          "output_type": "stream",
          "name": "stderr",
          "text": [
            "Loss=0.648241400718689 Batch_id=390 Accuracy=77.46: 100%|██████████| 391/391 [00:41<00:00,  9.53it/s]\n"
          ]
        },
        {
          "output_type": "stream",
          "name": "stdout",
          "text": [
            "\n",
            "Test set: Average loss: 0.0039, Accuracy: 8359/10000 (83.59%)\n",
            "\n",
            "Epoch:  59\n",
            "Learning rate:  0.004005792102878908\n"
          ]
        },
        {
          "output_type": "stream",
          "name": "stderr",
          "text": [
            "Loss=0.7105847597122192 Batch_id=390 Accuracy=77.48: 100%|██████████| 391/391 [00:40<00:00,  9.64it/s]\n"
          ]
        },
        {
          "output_type": "stream",
          "name": "stdout",
          "text": [
            "\n",
            "Test set: Average loss: 0.0038, Accuracy: 8380/10000 (83.80%)\n",
            "\n",
            "Epoch:  60\n",
            "Learning rate:  0.004005993548162307\n"
          ]
        },
        {
          "output_type": "stream",
          "name": "stderr",
          "text": [
            "Loss=0.7576695084571838 Batch_id=390 Accuracy=77.55: 100%|██████████| 391/391 [00:41<00:00,  9.48it/s]\n"
          ]
        },
        {
          "output_type": "stream",
          "name": "stdout",
          "text": [
            "\n",
            "Test set: Average loss: 0.0038, Accuracy: 8365/10000 (83.65%)\n",
            "\n",
            "Epoch:  61\n",
            "Learning rate:  0.004006198436665762\n"
          ]
        },
        {
          "output_type": "stream",
          "name": "stderr",
          "text": [
            "Loss=0.5695167779922485 Batch_id=390 Accuracy=77.52: 100%|██████████| 391/391 [00:41<00:00,  9.51it/s]\n"
          ]
        },
        {
          "output_type": "stream",
          "name": "stdout",
          "text": [
            "\n",
            "Test set: Average loss: 0.0040, Accuracy: 8298/10000 (82.98%)\n",
            "\n",
            "Epoch:  62\n",
            "Learning rate:  0.004006406768374535\n"
          ]
        },
        {
          "output_type": "stream",
          "name": "stderr",
          "text": [
            "Loss=0.5876227021217346 Batch_id=390 Accuracy=77.98: 100%|██████████| 391/391 [00:41<00:00,  9.44it/s]\n"
          ]
        },
        {
          "output_type": "stream",
          "name": "stdout",
          "text": [
            "\n",
            "Test set: Average loss: 0.0037, Accuracy: 8415/10000 (84.15%)\n",
            "\n",
            "Epoch:  63\n",
            "Learning rate:  0.004006618543273693\n"
          ]
        },
        {
          "output_type": "stream",
          "name": "stderr",
          "text": [
            "Loss=0.620241641998291 Batch_id=390 Accuracy=77.76: 100%|██████████| 391/391 [00:40<00:00,  9.60it/s]\n"
          ]
        },
        {
          "output_type": "stream",
          "name": "stdout",
          "text": [
            "\n",
            "Test set: Average loss: 0.0037, Accuracy: 8446/10000 (84.46%)\n",
            "\n",
            "Epoch:  64\n",
            "Learning rate:  0.0040068337613480415\n"
          ]
        },
        {
          "output_type": "stream",
          "name": "stderr",
          "text": [
            "Loss=0.5650013089179993 Batch_id=390 Accuracy=77.83: 100%|██████████| 391/391 [00:41<00:00,  9.44it/s]\n"
          ]
        },
        {
          "output_type": "stream",
          "name": "stdout",
          "text": [
            "\n",
            "Test set: Average loss: 0.0036, Accuracy: 8429/10000 (84.29%)\n",
            "\n",
            "Epoch:  65\n",
            "Learning rate:  0.004007052422582133\n"
          ]
        },
        {
          "output_type": "stream",
          "name": "stderr",
          "text": [
            "Loss=0.6374754905700684 Batch_id=390 Accuracy=77.93: 100%|██████████| 391/391 [00:40<00:00,  9.62it/s]\n"
          ]
        },
        {
          "output_type": "stream",
          "name": "stdout",
          "text": [
            "\n",
            "Test set: Average loss: 0.0037, Accuracy: 8396/10000 (83.96%)\n",
            "\n",
            "Epoch:  66\n",
            "Learning rate:  0.004007274526960286\n"
          ]
        },
        {
          "output_type": "stream",
          "name": "stderr",
          "text": [
            "Loss=0.6386277079582214 Batch_id=390 Accuracy=78.25: 100%|██████████| 391/391 [00:41<00:00,  9.45it/s]\n"
          ]
        },
        {
          "output_type": "stream",
          "name": "stdout",
          "text": [
            "\n",
            "Test set: Average loss: 0.0037, Accuracy: 8408/10000 (84.08%)\n",
            "\n",
            "Epoch:  67\n",
            "Learning rate:  0.004007500074466569\n"
          ]
        },
        {
          "output_type": "stream",
          "name": "stderr",
          "text": [
            "Loss=0.8678592443466187 Batch_id=390 Accuracy=77.88: 100%|██████████| 391/391 [00:40<00:00,  9.60it/s]\n"
          ]
        },
        {
          "output_type": "stream",
          "name": "stdout",
          "text": [
            "\n",
            "Test set: Average loss: 0.0036, Accuracy: 8450/10000 (84.50%)\n",
            "\n",
            "Epoch:  68\n",
            "Learning rate:  0.004007729065084786\n"
          ]
        },
        {
          "output_type": "stream",
          "name": "stderr",
          "text": [
            "Loss=0.7133013010025024 Batch_id=390 Accuracy=78.14: 100%|██████████| 391/391 [00:41<00:00,  9.50it/s]\n"
          ]
        },
        {
          "output_type": "stream",
          "name": "stdout",
          "text": [
            "\n",
            "Test set: Average loss: 0.0035, Accuracy: 8463/10000 (84.63%)\n",
            "\n",
            "Epoch:  69\n",
            "Learning rate:  0.004007961498798535\n"
          ]
        },
        {
          "output_type": "stream",
          "name": "stderr",
          "text": [
            "Loss=0.7069622874259949 Batch_id=390 Accuracy=78.23: 100%|██████████| 391/391 [00:41<00:00,  9.48it/s]\n"
          ]
        },
        {
          "output_type": "stream",
          "name": "stdout",
          "text": [
            "\n",
            "Test set: Average loss: 0.0036, Accuracy: 8474/10000 (84.74%)\n",
            "\n",
            "Epoch:  70\n",
            "Learning rate:  0.004008197375591133\n"
          ]
        },
        {
          "output_type": "stream",
          "name": "stderr",
          "text": [
            "Loss=0.580814003944397 Batch_id=390 Accuracy=78.19: 100%|██████████| 391/391 [00:41<00:00,  9.53it/s]\n"
          ]
        },
        {
          "output_type": "stream",
          "name": "stdout",
          "text": [
            "\n",
            "Test set: Average loss: 0.0038, Accuracy: 8403/10000 (84.03%)\n",
            "\n",
            "Epoch:  71\n",
            "Learning rate:  0.004008436695445622\n"
          ]
        },
        {
          "output_type": "stream",
          "name": "stderr",
          "text": [
            "Loss=0.6482537984848022 Batch_id=390 Accuracy=78.41: 100%|██████████| 391/391 [00:40<00:00,  9.60it/s]\n"
          ]
        },
        {
          "output_type": "stream",
          "name": "stdout",
          "text": [
            "\n",
            "Test set: Average loss: 0.0036, Accuracy: 8474/10000 (84.74%)\n",
            "\n",
            "Epoch:  72\n",
            "Learning rate:  0.004008679458344877\n"
          ]
        },
        {
          "output_type": "stream",
          "name": "stderr",
          "text": [
            "Loss=0.5509679913520813 Batch_id=390 Accuracy=78.54: 100%|██████████| 391/391 [00:40<00:00,  9.56it/s]\n"
          ]
        },
        {
          "output_type": "stream",
          "name": "stdout",
          "text": [
            "\n",
            "Test set: Average loss: 0.0035, Accuracy: 8528/10000 (85.28%)\n",
            "\n",
            "Epoch:  73\n",
            "Learning rate:  0.0040089256642714816\n"
          ]
        },
        {
          "output_type": "stream",
          "name": "stderr",
          "text": [
            "Loss=0.4759845733642578 Batch_id=390 Accuracy=78.53: 100%|██████████| 391/391 [00:40<00:00,  9.61it/s]\n"
          ]
        },
        {
          "output_type": "stream",
          "name": "stdout",
          "text": [
            "\n",
            "Test set: Average loss: 0.0037, Accuracy: 8406/10000 (84.06%)\n",
            "\n",
            "Epoch:  74\n",
            "Learning rate:  0.004009175313207727\n"
          ]
        },
        {
          "output_type": "stream",
          "name": "stderr",
          "text": [
            "Loss=0.5227862000465393 Batch_id=390 Accuracy=78.55: 100%|██████████| 391/391 [00:41<00:00,  9.50it/s]\n"
          ]
        },
        {
          "output_type": "stream",
          "name": "stdout",
          "text": [
            "\n",
            "Test set: Average loss: 0.0035, Accuracy: 8513/10000 (85.13%)\n",
            "\n",
            "Epoch:  75\n",
            "Learning rate:  0.004009428405135754\n"
          ]
        },
        {
          "output_type": "stream",
          "name": "stderr",
          "text": [
            "Loss=0.4765198230743408 Batch_id=390 Accuracy=78.77: 100%|██████████| 391/391 [00:41<00:00,  9.52it/s]\n"
          ]
        },
        {
          "output_type": "stream",
          "name": "stdout",
          "text": [
            "\n",
            "Test set: Average loss: 0.0035, Accuracy: 8472/10000 (84.72%)\n",
            "\n",
            "Epoch:  76\n",
            "Learning rate:  0.004009684940037367\n"
          ]
        },
        {
          "output_type": "stream",
          "name": "stderr",
          "text": [
            "Loss=0.7958260774612427 Batch_id=390 Accuracy=78.66: 100%|██████████| 391/391 [00:40<00:00,  9.58it/s]\n"
          ]
        },
        {
          "output_type": "stream",
          "name": "stdout",
          "text": [
            "\n",
            "Test set: Average loss: 0.0034, Accuracy: 8541/10000 (85.41%)\n",
            "\n",
            "Epoch:  77\n",
            "Learning rate:  0.004009944917894179\n"
          ]
        },
        {
          "output_type": "stream",
          "name": "stderr",
          "text": [
            "Loss=0.499755859375 Batch_id=390 Accuracy=78.67: 100%|██████████| 391/391 [00:41<00:00,  9.53it/s]\n"
          ]
        },
        {
          "output_type": "stream",
          "name": "stdout",
          "text": [
            "\n",
            "Test set: Average loss: 0.0034, Accuracy: 8512/10000 (85.12%)\n",
            "\n",
            "Epoch:  78\n",
            "Learning rate:  0.0040102083386875376\n"
          ]
        },
        {
          "output_type": "stream",
          "name": "stderr",
          "text": [
            "Loss=0.4356493055820465 Batch_id=390 Accuracy=78.67: 100%|██████████| 391/391 [00:40<00:00,  9.60it/s]\n"
          ]
        },
        {
          "output_type": "stream",
          "name": "stdout",
          "text": [
            "\n",
            "Test set: Average loss: 0.0036, Accuracy: 8471/10000 (84.71%)\n",
            "\n",
            "Epoch:  79\n",
            "Learning rate:  0.004010475202398556\n"
          ]
        },
        {
          "output_type": "stream",
          "name": "stderr",
          "text": [
            "Loss=0.6181755661964417 Batch_id=390 Accuracy=78.92: 100%|██████████| 391/391 [00:41<00:00,  9.47it/s]\n"
          ]
        },
        {
          "output_type": "stream",
          "name": "stdout",
          "text": [
            "\n",
            "Test set: Average loss: 0.0036, Accuracy: 8452/10000 (84.52%)\n",
            "\n",
            "Epoch:  80\n",
            "Learning rate:  0.004010745509008068\n"
          ]
        },
        {
          "output_type": "stream",
          "name": "stderr",
          "text": [
            "Loss=0.6478984951972961 Batch_id=390 Accuracy=79.08: 100%|██████████| 391/391 [00:40<00:00,  9.61it/s]\n"
          ]
        },
        {
          "output_type": "stream",
          "name": "stdout",
          "text": [
            "\n",
            "Test set: Average loss: 0.0034, Accuracy: 8562/10000 (85.62%)\n",
            "\n",
            "Epoch:  81\n",
            "Learning rate:  0.004011019258496687\n"
          ]
        },
        {
          "output_type": "stream",
          "name": "stderr",
          "text": [
            "Loss=0.6079732179641724 Batch_id=390 Accuracy=78.82: 100%|██████████| 391/391 [00:41<00:00,  9.34it/s]\n"
          ]
        },
        {
          "output_type": "stream",
          "name": "stdout",
          "text": [
            "\n",
            "Test set: Average loss: 0.0035, Accuracy: 8506/10000 (85.06%)\n",
            "\n",
            "Epoch:  82\n",
            "Learning rate:  0.00401129645084479\n"
          ]
        },
        {
          "output_type": "stream",
          "name": "stderr",
          "text": [
            "Loss=0.5118319392204285 Batch_id=390 Accuracy=79.17: 100%|██████████| 391/391 [00:40<00:00,  9.56it/s]\n"
          ]
        },
        {
          "output_type": "stream",
          "name": "stdout",
          "text": [
            "\n",
            "Test set: Average loss: 0.0035, Accuracy: 8512/10000 (85.12%)\n",
            "\n",
            "Epoch:  83\n",
            "Learning rate:  0.004011577086032461\n"
          ]
        },
        {
          "output_type": "stream",
          "name": "stderr",
          "text": [
            "Loss=0.5366116762161255 Batch_id=390 Accuracy=79.09: 100%|██████████| 391/391 [00:41<00:00,  9.47it/s]\n"
          ]
        },
        {
          "output_type": "stream",
          "name": "stdout",
          "text": [
            "\n",
            "Test set: Average loss: 0.0034, Accuracy: 8559/10000 (85.59%)\n",
            "\n",
            "Epoch:  84\n",
            "Learning rate:  0.004011861164039579\n"
          ]
        },
        {
          "output_type": "stream",
          "name": "stderr",
          "text": [
            "Loss=0.42381706833839417 Batch_id=390 Accuracy=79.03: 100%|██████████| 391/391 [00:40<00:00,  9.63it/s]\n"
          ]
        },
        {
          "output_type": "stream",
          "name": "stdout",
          "text": [
            "\n",
            "Test set: Average loss: 0.0034, Accuracy: 8521/10000 (85.21%)\n",
            "\n",
            "Epoch:  85\n",
            "Learning rate:  0.0040121486848457705\n"
          ]
        },
        {
          "output_type": "stream",
          "name": "stderr",
          "text": [
            "Loss=0.5351141095161438 Batch_id=390 Accuracy=79.10: 100%|██████████| 391/391 [00:41<00:00,  9.45it/s]\n"
          ]
        },
        {
          "output_type": "stream",
          "name": "stdout",
          "text": [
            "\n",
            "Test set: Average loss: 0.0034, Accuracy: 8533/10000 (85.33%)\n",
            "\n",
            "Epoch:  86\n",
            "Learning rate:  0.004012439648430399\n"
          ]
        },
        {
          "output_type": "stream",
          "name": "stderr",
          "text": [
            "Loss=0.6902936697006226 Batch_id=390 Accuracy=79.07: 100%|██████████| 391/391 [00:40<00:00,  9.62it/s]\n"
          ]
        },
        {
          "output_type": "stream",
          "name": "stdout",
          "text": [
            "\n",
            "Test set: Average loss: 0.0035, Accuracy: 8485/10000 (84.85%)\n",
            "\n",
            "Epoch:  87\n",
            "Learning rate:  0.004012734054772607\n"
          ]
        },
        {
          "output_type": "stream",
          "name": "stderr",
          "text": [
            "Loss=0.5771927833557129 Batch_id=390 Accuracy=79.33: 100%|██████████| 391/391 [00:41<00:00,  9.50it/s]\n"
          ]
        },
        {
          "output_type": "stream",
          "name": "stdout",
          "text": [
            "\n",
            "Test set: Average loss: 0.0035, Accuracy: 8479/10000 (84.79%)\n",
            "\n",
            "Epoch:  88\n",
            "Learning rate:  0.004013031903851258\n"
          ]
        },
        {
          "output_type": "stream",
          "name": "stderr",
          "text": [
            "Loss=0.686380922794342 Batch_id=390 Accuracy=79.45: 100%|██████████| 391/391 [00:40<00:00,  9.60it/s]\n"
          ]
        },
        {
          "output_type": "stream",
          "name": "stdout",
          "text": [
            "\n",
            "Test set: Average loss: 0.0035, Accuracy: 8516/10000 (85.16%)\n",
            "\n",
            "Epoch:  89\n",
            "Learning rate:  0.004013333195644994\n"
          ]
        },
        {
          "output_type": "stream",
          "name": "stderr",
          "text": [
            "Loss=0.639906644821167 Batch_id=390 Accuracy=79.32: 100%|██████████| 391/391 [00:40<00:00,  9.56it/s]\n"
          ]
        },
        {
          "output_type": "stream",
          "name": "stdout",
          "text": [
            "\n",
            "Test set: Average loss: 0.0035, Accuracy: 8536/10000 (85.36%)\n",
            "\n",
            "Epoch:  90\n",
            "Learning rate:  0.00401363793013218\n"
          ]
        },
        {
          "output_type": "stream",
          "name": "stderr",
          "text": [
            "Loss=0.7167567014694214 Batch_id=390 Accuracy=79.32: 100%|██████████| 391/391 [00:40<00:00,  9.63it/s]\n"
          ]
        },
        {
          "output_type": "stream",
          "name": "stdout",
          "text": [
            "\n",
            "Test set: Average loss: 0.0035, Accuracy: 8516/10000 (85.16%)\n",
            "\n",
            "Epoch:  91\n",
            "Learning rate:  0.004013946107290958\n"
          ]
        },
        {
          "output_type": "stream",
          "name": "stderr",
          "text": [
            "Loss=0.6343678832054138 Batch_id=390 Accuracy=79.34: 100%|██████████| 391/391 [00:41<00:00,  9.48it/s]\n"
          ]
        },
        {
          "output_type": "stream",
          "name": "stdout",
          "text": [
            "\n",
            "Test set: Average loss: 0.0034, Accuracy: 8546/10000 (85.46%)\n",
            "\n",
            "Epoch:  92\n",
            "Learning rate:  0.004014257727099235\n"
          ]
        },
        {
          "output_type": "stream",
          "name": "stderr",
          "text": [
            "Loss=0.6418282389640808 Batch_id=390 Accuracy=79.44: 100%|██████████| 391/391 [00:40<00:00,  9.67it/s]\n"
          ]
        },
        {
          "output_type": "stream",
          "name": "stdout",
          "text": [
            "\n",
            "Test set: Average loss: 0.0034, Accuracy: 8555/10000 (85.55%)\n",
            "\n",
            "Epoch:  93\n",
            "Learning rate:  0.004014572789534654\n"
          ]
        },
        {
          "output_type": "stream",
          "name": "stderr",
          "text": [
            "Loss=0.6481951475143433 Batch_id=390 Accuracy=79.93: 100%|██████████| 391/391 [00:40<00:00,  9.63it/s]\n"
          ]
        },
        {
          "output_type": "stream",
          "name": "stdout",
          "text": [
            "\n",
            "Test set: Average loss: 0.0033, Accuracy: 8593/10000 (85.93%)\n",
            "\n",
            "Epoch:  94\n",
            "Learning rate:  0.00401489129457458\n"
          ]
        },
        {
          "output_type": "stream",
          "name": "stderr",
          "text": [
            "Loss=0.655978798866272 Batch_id=390 Accuracy=79.69: 100%|██████████| 391/391 [00:40<00:00,  9.63it/s]\n"
          ]
        },
        {
          "output_type": "stream",
          "name": "stdout",
          "text": [
            "\n",
            "Test set: Average loss: 0.0035, Accuracy: 8527/10000 (85.27%)\n",
            "\n",
            "Epoch:  95\n",
            "Learning rate:  0.004015213242196197\n"
          ]
        },
        {
          "output_type": "stream",
          "name": "stderr",
          "text": [
            "Loss=0.6200782060623169 Batch_id=390 Accuracy=79.57: 100%|██████████| 391/391 [00:40<00:00,  9.57it/s]\n"
          ]
        },
        {
          "output_type": "stream",
          "name": "stdout",
          "text": [
            "\n",
            "Test set: Average loss: 0.0034, Accuracy: 8550/10000 (85.50%)\n",
            "\n",
            "Epoch:  96\n",
            "Learning rate:  0.004015538632376414\n"
          ]
        },
        {
          "output_type": "stream",
          "name": "stderr",
          "text": [
            "Loss=0.44762319326400757 Batch_id=390 Accuracy=79.41: 100%|██████████| 391/391 [00:40<00:00,  9.70it/s]\n"
          ]
        },
        {
          "output_type": "stream",
          "name": "stdout",
          "text": [
            "\n",
            "Test set: Average loss: 0.0033, Accuracy: 8603/10000 (86.03%)\n",
            "\n",
            "Epoch:  97\n",
            "Learning rate:  0.0040158674650918325\n"
          ]
        },
        {
          "output_type": "stream",
          "name": "stderr",
          "text": [
            "Loss=0.5116454362869263 Batch_id=390 Accuracy=79.49: 100%|██████████| 391/391 [00:40<00:00,  9.56it/s]\n"
          ]
        },
        {
          "output_type": "stream",
          "name": "stdout",
          "text": [
            "\n",
            "Test set: Average loss: 0.0034, Accuracy: 8572/10000 (85.72%)\n",
            "\n",
            "Epoch:  98\n",
            "Learning rate:  0.004016199740318915\n"
          ]
        },
        {
          "output_type": "stream",
          "name": "stderr",
          "text": [
            "Loss=0.5007434487342834 Batch_id=390 Accuracy=79.43: 100%|██████████| 391/391 [00:41<00:00,  9.50it/s]\n"
          ]
        },
        {
          "output_type": "stream",
          "name": "stdout",
          "text": [
            "\n",
            "Test set: Average loss: 0.0032, Accuracy: 8621/10000 (86.21%)\n",
            "\n",
            "Epoch:  99\n",
            "Learning rate:  0.004016535458033821\n"
          ]
        },
        {
          "output_type": "stream",
          "name": "stderr",
          "text": [
            "Loss=0.4407823979854584 Batch_id=390 Accuracy=80.03: 100%|██████████| 391/391 [00:40<00:00,  9.60it/s]\n"
          ]
        },
        {
          "output_type": "stream",
          "name": "stdout",
          "text": [
            "\n",
            "Test set: Average loss: 0.0035, Accuracy: 8550/10000 (85.50%)\n",
            "\n",
            "Epoch:  100\n",
            "Learning rate:  0.004016874618212443\n"
          ]
        },
        {
          "output_type": "stream",
          "name": "stderr",
          "text": [
            "Loss=0.4359794557094574 Batch_id=390 Accuracy=79.97: 100%|██████████| 391/391 [00:40<00:00,  9.66it/s]\n"
          ]
        },
        {
          "output_type": "stream",
          "name": "stdout",
          "text": [
            "\n",
            "Test set: Average loss: 0.0033, Accuracy: 8594/10000 (85.94%)\n",
            "\n"
          ]
        }
      ]
    },
    {
      "cell_type": "code",
      "metadata": {
        "id": "psKzKcSp6w1k"
      },
      "source": [
        "\n",
        "%matplotlib inline\n",
        "import matplotlib.pyplot as plt\n",
        "\n",
        "def plot_training_curve(train_losses, train_acc, test_losses, test_acc):\n",
        "    t = [t_items.item() for t_items in train_losses]\n",
        "    fig, axs = plt.subplots(2,2,figsize=(15,10))\n",
        "    axs[0, 0].plot(t)\n",
        "    axs[0, 0].set_title(\"Training Loss\")\n",
        "    axs[1, 0].plot(train_acc[4000:])\n",
        "    axs[1, 0].set_title(\"Training Accuracy\")\n",
        "    axs[0, 1].plot(test_losses)\n",
        "    axs[0, 1].set_title(\"Test Loss\")\n",
        "    axs[1, 1].plot(test_acc)\n",
        "    axs[1, 1].set_title(\"Test Accuracy\")"
      ],
      "execution_count": null,
      "outputs": []
    },
    {
      "cell_type": "code",
      "source": [
        "plot_training_curve(train_losses, train_acc, test_losses, test_acc)"
      ],
      "metadata": {
        "id": "6tJX7uOf6w1k"
      },
      "execution_count": null,
      "outputs": []
    }
  ]
}